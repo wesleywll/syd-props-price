{
 "cells": [
  {
   "cell_type": "code",
   "execution_count": 54,
   "metadata": {},
   "outputs": [],
   "source": [
    "# %load_ext autoreload\n",
    "# %autoreload 2"
   ]
  },
  {
   "cell_type": "code",
   "execution_count": 55,
   "metadata": {},
   "outputs": [],
   "source": [
    "import pandas as pd\n",
    "import numpy as np\n",
    "import seaborn as sns\n",
    "import matplotlib.pyplot as plt\n",
    "import sqlite3\n",
    "from paths import PF_DB_PATH, DATA_DIR\n",
    "from IPython.display import Markdown as md\n",
    "from IPython.display import display\n",
    "import os \n",
    "\n",
    "DEBUG= False"
   ]
  },
  {
   "cell_type": "code",
   "execution_count": 41,
   "metadata": {},
   "outputs": [],
   "source": [
    "def display_list(lst: list, sep=\", \") -> str:\n",
    "    # join list items to return a merged str for display\n",
    "    return sep.join(lst)\n",
    "\n",
    "def debug(df):\n",
    "    # display df if in debug mode\n",
    "    if DEBUG:\n",
    "        display(df)"
   ]
  },
  {
   "cell_type": "markdown",
   "metadata": {},
   "source": [
    "# Raw Data\n",
    "Dataset was downloaded as separated `.xlsx` files, which are then merged into a single SQLite database. The SQL database consists of 2 tables:"
   ]
  },
  {
   "cell_type": "code",
   "execution_count": 42,
   "metadata": {},
   "outputs": [],
   "source": [
    "con= sqlite3.connect(PF_DB_PATH)\n",
    "raw_records= pd.read_sql_query(\"SELECT * FROM record\", con)\n",
    "raw_property=  pd.read_sql_query(\"SELECT * FROM property\", con)"
   ]
  },
  {
   "cell_type": "code",
   "execution_count": 43,
   "metadata": {},
   "outputs": [
    {
     "data": {
      "text/markdown": [
       "\n",
       "1. records\n",
       "\n",
       "    This table contains 731,552 property sales records, each record contains the following data:\n",
       "    * `id`: unique identification of the sales record, formed by merging address, postcode and sale date\n",
       "    * `record_date`: date of sale (from 2000-01-05 to 2022-01-04)\n",
       "    * `price`: final sale price\n",
       "    * `sale_type`: type of sale (Agents Advice - Sale, Normal Sale, Multi-Sale, Part Sale, Unknown)\n",
       "    * `prop_id`: id of the property, formed by merging address and postcode\n",
       "    * `property_type`: type of property (Commercial, Unit, Other, House, Vacant Land, Industrial)\n",
       "    * `bedrooms`: number of bedrooms\n",
       "    * `bathrooms`: number of bathrooms\n",
       "    * `carparks`: number of car parks\n",
       "2. property\n",
       "\n",
       "    This table contains 455,865 properties that have associated sales record(s), each property details consist of the following data:\n",
       "    * `address`: address with postcode attached, act as unique identification\n",
       "    * `street`: street name\n",
       "    * `locality`: suburb name (844 in total)\n",
       "    * `postcode`: postcode (312 in total)\n",
       "    * `land_area`: land area\n"
      ],
      "text/plain": [
       "<IPython.core.display.Markdown object>"
      ]
     },
     "execution_count": 43,
     "metadata": {},
     "output_type": "execute_result"
    }
   ],
   "source": [
    "md(\n",
    "    f\"\"\"\n",
    "1. records\\n\n",
    "    This table contains {raw_records.shape[0]:,} property sales records, each record contains the following data:\n",
    "    * `id`: unique identification of the sales record, formed by merging address, postcode and sale date\n",
    "    * `record_date`: date of sale (from {raw_records.record_date.min()} to {raw_records.record_date.max()})\n",
    "    * `price`: final sale price\n",
    "    * `sale_type`: type of sale ({display_list(raw_records.sale_type.unique().tolist())})\n",
    "    * `prop_id`: id of the property, formed by merging address and postcode\n",
    "    * `property_type`: type of property ({display_list(raw_records.property_type.unique().tolist())})\n",
    "    * `bedrooms`: number of bedrooms\n",
    "    * `bathrooms`: number of bathrooms\n",
    "    * `carparks`: number of car parks\n",
    "2. property\\n\n",
    "    This table contains {raw_property.shape[0]:,} properties that have associated sales record(s), each property details consist of the following data:\n",
    "    * `address`: address with postcode attached, act as unique identification\n",
    "    * `street`: street name\n",
    "    * `locality`: suburb name ({raw_property.locality.nunique()} in total)\n",
    "    * `postcode`: postcode ({raw_property.postcode.nunique()} in total)\n",
    "    * `land_area`: land area\n",
    "\"\"\"\n",
    ")"
   ]
  },
  {
   "cell_type": "code",
   "execution_count": 44,
   "metadata": {},
   "outputs": [],
   "source": [
    "debug(raw_records.describe(include = 'all'))\n",
    "debug(raw_property.describe(include='all'))"
   ]
  },
  {
   "cell_type": "markdown",
   "metadata": {},
   "source": [
    "# Data Cleaning"
   ]
  },
  {
   "cell_type": "code",
   "execution_count": 45,
   "metadata": {},
   "outputs": [],
   "source": [
    "# raw dataframe\n",
    "df_raw= (\n",
    "    pd.merge(raw_records, raw_property, left_on='prop_id', right_on='address', how= 'left')\n",
    "    .drop(columns=['prop_id'])\n",
    ")\n",
    "\n",
    "# filtered dataframe\n",
    "last_record_date = '2021-12-31'\n",
    "df_clean= df_raw.query(f'bedrooms<=5 & bathrooms<=5 & carparks <=3')\n",
    "df_clean= df_clean[df_clean.record_date <= last_record_date]\n",
    "df_clean['year']= pd.DatetimeIndex(df_clean.record_date).year\n"
   ]
  },
  {
   "cell_type": "code",
   "execution_count": 46,
   "metadata": {},
   "outputs": [
    {
     "data": {
      "text/markdown": [
       "\n",
       "There is no missing values in both tables. For records, unusually high number of bedrooms, bathrooms and car parks were found, possible due to the sale of buildings as a whole. For normal household, only properties with maximum 5 bedrooms/bathrooms and 3 car parks were considered.\n",
       "\n",
       "Also, to aid yearly aggregation, a `year` column was generated from `record_date`. It should be noted that only sales records on or before 2021-12-31 were considered to ensure accuracy of annual statistics.\n",
       "\n",
       "Consequently, a combined dataset was then formed by merging the two tables with left join on `records`. The final dataset for analysis consists of 697,935 records (95% of available records).\n"
      ],
      "text/plain": [
       "<IPython.core.display.Markdown object>"
      ]
     },
     "execution_count": 46,
     "metadata": {},
     "output_type": "execute_result"
    }
   ],
   "source": [
    "md(f'''\n",
    "There is no missing values in both tables. For records, unusually high number of bedrooms, bathrooms and car parks were found, possible due to the sale of buildings as a whole. For normal household, only properties with maximum 5 bedrooms/bathrooms and 3 car parks were considered.\n",
    "\n",
    "Also, to aid yearly aggregation, a `year` column was generated from `record_date`. It should be noted that only sales records on or before {last_record_date} were considered to ensure accuracy of annual statistics.\n",
    "\n",
    "Consequently, a combined dataset was then formed by merging the two tables with left join on `records`. The final dataset for analysis consists of {df_clean.shape[0]:,} records ({df_clean.shape[0]/df_raw.shape[0]:.0%} of available records).\n",
    "''')"
   ]
  },
  {
   "cell_type": "code",
   "execution_count": 47,
   "metadata": {},
   "outputs": [],
   "source": [
    "debug(raw_records.isna().sum())\n",
    "debug(raw_property.isna().sum())\n",
    "debug(df_clean.describe(include='all').style.format(dict(price= \"{:,.0f}\")))\n"
   ]
  },
  {
   "cell_type": "markdown",
   "metadata": {},
   "source": [
    "Further analysis suggested that most records were Normal Sales of either House or Unit properties. For simplicity and sake of interest, only these records were considered."
   ]
  },
  {
   "cell_type": "code",
   "execution_count": 48,
   "metadata": {},
   "outputs": [
    {
     "data": {
      "image/png": "[encoded data removed]",
      "text/plain": [
       "<Figure size 1008x360 with 2 Axes>"
      ]
     },
     "metadata": {
      "needs_background": "light"
     },
     "output_type": "display_data"
    }
   ],
   "source": [
    "nrow, ncol = 1,2\n",
    "fig, axs= plt.subplots(nrow,ncol, figsize=(ncol*7, nrow*5))\n",
    "axs= iter(axs.ravel())\n",
    "sns.histplot(data=df_clean, y='sale_type', ax= next(axs))\n",
    "sns.histplot(data=df_clean, y='property_type', ax= next(axs))\n",
    "fig.tight_layout()"
   ]
  },
  {
   "cell_type": "markdown",
   "metadata": {},
   "source": [
    "For sale prices, a small portion of properties were sold in high value. To focus on properties of affordable range, only records with sale price below 3,000,000 were considered."
   ]
  },
  {
   "cell_type": "code",
   "execution_count": 49,
   "metadata": {},
   "outputs": [],
   "source": [
    "# filter out selected sale_type and property_type\n",
    "df_sel = df_clean[\n",
    "    (df_clean.sale_type == \"Normal Sale\")\n",
    "    & (df_clean.property_type.isin([\"Unit\", \"House\"]))\n",
    "]\n",
    "\n",
    "df = df_sel.query('price <= 3e6')"
   ]
  },
  {
   "cell_type": "code",
   "execution_count": 50,
   "metadata": {},
   "outputs": [
    {
     "data": {
      "image/png": "[encoded data removed]",
      "text/plain": [
       "<Figure size 1008x360 with 2 Axes>"
      ]
     },
     "metadata": {
      "needs_background": "light"
     },
     "output_type": "display_data"
    }
   ],
   "source": [
    "nrow, ncol = 1,2\n",
    "fig, axs= plt.subplots(nrow,ncol, figsize=(ncol*7, nrow*5))\n",
    "axs= iter(axs.ravel())\n",
    "\n",
    "def plot_dist(df, ax, title):\n",
    "    sns.kdeplot(data= df, x= 'price', hue='property_type', ax=ax)\n",
    "    ax.spines['top'].set_visible(False)\n",
    "    ax.spines['right'].set_visible(False)\n",
    "    ax.spines['bottom'].set_visible(False)\n",
    "    ax.spines['left'].set_visible(False)\n",
    "    ax.yaxis.set_visible(False)\n",
    "    ax.set_title(title)\n",
    "\n",
    "plot_dist(df_sel, next(axs), 'Price distribution before filtering')\n",
    "plot_dist(df, next(axs), 'Price distribution after filtering')\n",
    "\n"
   ]
  },
  {
   "cell_type": "code",
   "execution_count": 51,
   "metadata": {},
   "outputs": [],
   "source": [
    "debug(df.sale_type.unique())\n",
    "debug(df.property_type.unique())"
   ]
  },
  {
   "cell_type": "code",
   "execution_count": 52,
   "metadata": {},
   "outputs": [
    {
     "data": {
      "text/markdown": [
       "\n",
       "The remaining dataset therefore contains 632,570 records (86% of the raw data)\n"
      ],
      "text/plain": [
       "<IPython.core.display.Markdown object>"
      ]
     },
     "execution_count": 52,
     "metadata": {},
     "output_type": "execute_result"
    }
   ],
   "source": [
    "md(f'''\n",
    "The remaining dataset therefore contains {df.shape[0]:,} records ({df.shape[0]/df_raw.shape[0]:.0%} of the raw data)\n",
    "''')"
   ]
  },
  {
   "cell_type": "code",
   "execution_count": 53,
   "metadata": {},
   "outputs": [],
   "source": [
    "# export as csv\n",
    "df.to_csv(os.path.join(DATA_DIR, 'dataset.csv'), index=False)"
   ]
  }
 ],
 "metadata": {
  "interpreter": {
   "hash": "9566478b6a06e3b0013ae75e9bb719eb5012d4e909bc8b86fcb8e0f80575c674"
  },
  "kernelspec": {
   "display_name": "Python 3.8.10 ('venv': venv)",
   "language": "python",
   "name": "python3"
  },
  "language_info": {
   "codemirror_mode": {
    "name": "ipython",
    "version": 3
   },
   "file_extension": ".py",
   "mimetype": "text/x-python",
   "name": "python",
   "nbconvert_exporter": "python",
   "pygments_lexer": "ipython3",
   "version": "3.8.10"
  },
  "orig_nbformat": 4
 },
 "nbformat": 4,
 "nbformat_minor": 2
}
