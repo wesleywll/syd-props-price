{
 "cells": [
  {
   "cell_type": "markdown",
   "metadata": {},
   "source": [
    "# Load SQLite DB"
   ]
  },
  {
   "cell_type": "code",
   "execution_count": 1,
   "metadata": {},
   "outputs": [],
   "source": [
    "import pandas as pd\n",
    "from paths import PF_DB_PATH\n",
    "db_path = f'sqlite:///{PF_DB_PATH}'"
   ]
  },
  {
   "cell_type": "code",
   "execution_count": 7,
   "metadata": {},
   "outputs": [],
   "source": [
    "%%capture\n",
    "%load_ext sql\n",
    "%env DATABASE_URL= $db_path"
   ]
  },
  {
   "cell_type": "markdown",
   "metadata": {},
   "source": []
  },
  {
   "cell_type": "markdown",
   "metadata": {},
   "source": [
    "# Querys"
   ]
  },
  {
   "cell_type": "markdown",
   "metadata": {},
   "source": [
    "#### How is property type distributed in the dataset?"
   ]
  },
  {
   "cell_type": "code",
   "execution_count": 10,
   "metadata": {
    "vscode": {
     "languageId": "sql"
    }
   },
   "outputs": [
    {
     "name": "stdout",
     "output_type": "stream",
     "text": [
      " * sqlite:///D:\\_CORE\\static\\dataset\\Australia\\pricefinder\\pricefinder_db.sqlite\n",
      "Done.\n"
     ]
    },
    {
     "data": {
      "text/html": [
       "<table>\n",
       "    <tr>\n",
       "        <th>propertyType</th>\n",
       "        <th>total</th>\n",
       "        <th>proportion</th>\n",
       "    </tr>\n",
       "    <tr>\n",
       "        <td>House</td>\n",
       "        <td>349058</td>\n",
       "        <td>47.7%</td>\n",
       "    </tr>\n",
       "    <tr>\n",
       "        <td>Unit</td>\n",
       "        <td>340298</td>\n",
       "        <td>46.5%</td>\n",
       "    </tr>\n",
       "    <tr>\n",
       "        <td>Other</td>\n",
       "        <td>22206</td>\n",
       "        <td>3.0%</td>\n",
       "    </tr>\n",
       "    <tr>\n",
       "        <td>Vacant Land</td>\n",
       "        <td>12576</td>\n",
       "        <td>1.7%</td>\n",
       "    </tr>\n",
       "    <tr>\n",
       "        <td>Commercial</td>\n",
       "        <td>6310</td>\n",
       "        <td>0.9%</td>\n",
       "    </tr>\n",
       "    <tr>\n",
       "        <td>Industrial</td>\n",
       "        <td>1104</td>\n",
       "        <td>0.2%</td>\n",
       "    </tr>\n",
       "</table>"
      ],
      "text/plain": [
       "[('House', 349058, '47.7%'),\n",
       " ('Unit', 340298, '46.5%'),\n",
       " ('Other', 22206, '3.0%'),\n",
       " ('Vacant Land', 12576, '1.7%'),\n",
       " ('Commercial', 6310, '0.9%'),\n",
       " ('Industrial', 1104, '0.2%')]"
      ]
     },
     "execution_count": 10,
     "metadata": {},
     "output_type": "execute_result"
    }
   ],
   "source": [
    "%%sql \n",
    "SELECT\n",
    "    property_type AS propertyType,\n",
    "    COUNT(property_type) AS total,\n",
    "    PRINTF(\"%.1f%\",\n",
    "        100*CAST(COUNT(property_type) AS real) / (\n",
    "            SELECT\n",
    "                COUNT(*)\n",
    "            FROM\n",
    "                record\n",
    "        )\n",
    "    ) AS proportion\n",
    "FROM\n",
    "    record\n",
    "GROUP BY\n",
    "    property_type\n",
    "ORDER BY\n",
    "    total DESC"
   ]
  },
  {
   "cell_type": "markdown",
   "metadata": {},
   "source": [
    "#### How much have average house prices changes in the last 5 years?"
   ]
  },
  {
   "cell_type": "code",
   "execution_count": 4,
   "metadata": {
    "vscode": {
     "languageId": "sql"
    }
   },
   "outputs": [
    {
     "name": "stdout",
     "output_type": "stream",
     "text": [
      " * sqlite:///D:\\_CORE\\static\\dataset\\Australia\\pricefinder\\pricefinder_db.sqlite\n",
      "Done.\n"
     ]
    },
    {
     "data": {
      "text/html": [
       "<table>\n",
       "    <tr>\n",
       "        <th>year</th>\n",
       "        <th>avgPrice</th>\n",
       "        <th>changeFromPreviousYear</th>\n",
       "    </tr>\n",
       "    <tr>\n",
       "        <td>2021</td>\n",
       "        <td>$1,649,125</td>\n",
       "        <td>35.2%</td>\n",
       "    </tr>\n",
       "    <tr>\n",
       "        <td>2020</td>\n",
       "        <td>$1,220,014</td>\n",
       "        <td>23.5%</td>\n",
       "    </tr>\n",
       "    <tr>\n",
       "        <td>2019</td>\n",
       "        <td>$987,961</td>\n",
       "        <td>-1.2%</td>\n",
       "    </tr>\n",
       "    <tr>\n",
       "        <td>2018</td>\n",
       "        <td>$999,697</td>\n",
       "        <td>-5.9%</td>\n",
       "    </tr>\n",
       "    <tr>\n",
       "        <td>2017</td>\n",
       "        <td>$1,062,668</td>\n",
       "        <td>10.8%</td>\n",
       "    </tr>\n",
       "</table>"
      ],
      "text/plain": [
       "[(2021, '$1,649,125', '35.2%'),\n",
       " (2020, '$1,220,014', '23.5%'),\n",
       " (2019, '$987,961', '-1.2%'),\n",
       " (2018, '$999,697', '-5.9%'),\n",
       " (2017, '$1,062,668', '10.8%')]"
      ]
     },
     "execution_count": 4,
     "metadata": {},
     "output_type": "execute_result"
    }
   ],
   "source": [
    "%%sql\n",
    "WITH houseAvg AS (\n",
    "    SELECT\n",
    "        CAST(strftime('%Y', record_date) AS decimal) AS year,\n",
    "        AVG(price) AS price\n",
    "    FROM\n",
    "        record\n",
    "    WHERE\n",
    "        property_type = 'House'\n",
    "    GROUP BY\n",
    "        year\n",
    ")\n",
    "SELECT\n",
    "    year,\n",
    "    PRINTF(\"$%,d\", price) AS avgPrice,\n",
    "    PRINTF(\"%.1f%\",\n",
    "        100*(price / lag(price, 1) over(ORDER BY year)-1)\n",
    "    ) AS changeFromPreviousYear\n",
    "FROM\n",
    "    houseAvg\n",
    "WHERE\n",
    "    year < 2022\n",
    "ORDER BY\n",
    "    year DESC\n",
    "LIMIT\n",
    "    5"
   ]
  },
  {
   "cell_type": "code",
   "execution_count": 5,
   "metadata": {
    "vscode": {
     "languageId": "sql"
    }
   },
   "outputs": [
    {
     "name": "stderr",
     "output_type": "stream",
     "text": [
      "UsageError: %%sql is a cell magic, but the cell body is empty. Did you mean the line magic %sql (single %)?\n"
     ]
    }
   ],
   "source": [
    "%%sql\n"
   ]
  }
 ],
 "metadata": {
  "interpreter": {
   "hash": "89b3de362c18f0b96e3dbc72bc0c616f4f51b95182f2ddca825cadc01fba3b0d"
  },
  "kernelspec": {
   "display_name": "Python 3.8.10 ('venv': venv)",
   "language": "python",
   "name": "python3"
  },
  "language_info": {
   "codemirror_mode": {
    "name": "ipython",
    "version": 3
   },
   "file_extension": ".py",
   "mimetype": "text/x-python",
   "name": "python",
   "nbconvert_exporter": "python",
   "pygments_lexer": "ipython3",
   "version": "3.8.10"
  },
  "orig_nbformat": 4
 },
 "nbformat": 4,
 "nbformat_minor": 2
}
