{
 "cells": [
  {
   "cell_type": "markdown",
   "metadata": {},
   "source": [
    "# Load SQLite DB"
   ]
  },
  {
   "cell_type": "code",
   "execution_count": 17,
   "metadata": {},
   "outputs": [],
   "source": [
    "import pandas as pd\n",
    "from paths import PF_DB_PATH\n",
    "db_path = f'sqlite:///{PF_DB_PATH}'"
   ]
  },
  {
   "cell_type": "code",
   "execution_count": 18,
   "metadata": {},
   "outputs": [],
   "source": [
    "%%capture\n",
    "%load_ext sql\n",
    "%env DATABASE_URL= $db_path"
   ]
  },
  {
   "cell_type": "markdown",
   "metadata": {},
   "source": []
  },
  {
   "cell_type": "markdown",
   "metadata": {},
   "source": [
    "# Querys"
   ]
  },
  {
   "cell_type": "markdown",
   "metadata": {},
   "source": [
    "#### How is property type distributed in the dataset?"
   ]
  },
  {
   "cell_type": "code",
   "execution_count": 19,
   "metadata": {
    "vscode": {
     "languageId": "sql"
    }
   },
   "outputs": [
    {
     "name": "stdout",
     "output_type": "stream",
     "text": [
      " * sqlite:///D:\\_CORE\\static\\dataset\\Australia\\pricefinder\\pricefinder_db.sqlite\n",
      "Done.\n"
     ]
    },
    {
     "data": {
      "text/html": [
       "<table>\n",
       "    <tr>\n",
       "        <th>propertyType</th>\n",
       "        <th>total</th>\n",
       "        <th>proportion</th>\n",
       "    </tr>\n",
       "    <tr>\n",
       "        <td>House</td>\n",
       "        <td>349058</td>\n",
       "        <td>47.7%</td>\n",
       "    </tr>\n",
       "    <tr>\n",
       "        <td>Unit</td>\n",
       "        <td>340298</td>\n",
       "        <td>46.5%</td>\n",
       "    </tr>\n",
       "    <tr>\n",
       "        <td>Other</td>\n",
       "        <td>22206</td>\n",
       "        <td>3.0%</td>\n",
       "    </tr>\n",
       "    <tr>\n",
       "        <td>Vacant Land</td>\n",
       "        <td>12576</td>\n",
       "        <td>1.7%</td>\n",
       "    </tr>\n",
       "    <tr>\n",
       "        <td>Commercial</td>\n",
       "        <td>6310</td>\n",
       "        <td>0.9%</td>\n",
       "    </tr>\n",
       "    <tr>\n",
       "        <td>Industrial</td>\n",
       "        <td>1104</td>\n",
       "        <td>0.2%</td>\n",
       "    </tr>\n",
       "</table>"
      ],
      "text/plain": [
       "[('House', 349058, '47.7%'),\n",
       " ('Unit', 340298, '46.5%'),\n",
       " ('Other', 22206, '3.0%'),\n",
       " ('Vacant Land', 12576, '1.7%'),\n",
       " ('Commercial', 6310, '0.9%'),\n",
       " ('Industrial', 1104, '0.2%')]"
      ]
     },
     "execution_count": 19,
     "metadata": {},
     "output_type": "execute_result"
    }
   ],
   "source": [
    "%%sql\n",
    "\n",
    "SELECT\n",
    "    property_type AS propertyType,\n",
    "    COUNT(property_type) AS total,\n",
    "    -- format function of SQLite\n",
    "    PRINTF(\n",
    "        \"%.1f%\",\n",
    "        100 * CAST(COUNT(property_type) AS real) / (\n",
    "            SELECT\n",
    "                COUNT(*)\n",
    "            FROM\n",
    "                record\n",
    "        )\n",
    "    ) AS proportion\n",
    "FROM\n",
    "    record\n",
    "GROUP BY\n",
    "    property_type\n",
    "ORDER BY\n",
    "    total DESC"
   ]
  },
  {
   "cell_type": "markdown",
   "metadata": {},
   "source": [
    "#### How much have average house prices changes in the last 5 years?"
   ]
  },
  {
   "cell_type": "code",
   "execution_count": 20,
   "metadata": {
    "vscode": {
     "languageId": "sql"
    }
   },
   "outputs": [
    {
     "name": "stdout",
     "output_type": "stream",
     "text": [
      " * sqlite:///D:\\_CORE\\static\\dataset\\Australia\\pricefinder\\pricefinder_db.sqlite\n",
      "Done.\n"
     ]
    },
    {
     "data": {
      "text/html": [
       "<table>\n",
       "    <tr>\n",
       "        <th>year</th>\n",
       "        <th>avgPrice</th>\n",
       "        <th>growth</th>\n",
       "    </tr>\n",
       "    <tr>\n",
       "        <td>2021</td>\n",
       "        <td>$1,431,570</td>\n",
       "        <td>20.0%</td>\n",
       "    </tr>\n",
       "    <tr>\n",
       "        <td>2020</td>\n",
       "        <td>$1,193,125</td>\n",
       "        <td>5.5%</td>\n",
       "    </tr>\n",
       "    <tr>\n",
       "        <td>2019</td>\n",
       "        <td>$1,131,452</td>\n",
       "        <td>-2.1%</td>\n",
       "    </tr>\n",
       "    <tr>\n",
       "        <td>2018</td>\n",
       "        <td>$1,155,428</td>\n",
       "        <td>-3.6%</td>\n",
       "    </tr>\n",
       "    <tr>\n",
       "        <td>2017</td>\n",
       "        <td>$1,199,063</td>\n",
       "        <td>8.1%</td>\n",
       "    </tr>\n",
       "</table>"
      ],
      "text/plain": [
       "[(2021, '$1,431,570', '20.0%'),\n",
       " (2020, '$1,193,125', '5.5%'),\n",
       " (2019, '$1,131,452', '-2.1%'),\n",
       " (2018, '$1,155,428', '-3.6%'),\n",
       " (2017, '$1,199,063', '8.1%')]"
      ]
     },
     "execution_count": 20,
     "metadata": {},
     "output_type": "execute_result"
    }
   ],
   "source": [
    "%%sql\n",
    "\n",
    "-- window for average house prices\n",
    "WITH houseAvg AS (\n",
    "    SELECT\n",
    "        CAST(strftime('%Y', record_date) AS decimal) AS year,\n",
    "        AVG(price) AS price\n",
    "    FROM\n",
    "        record\n",
    "    WHERE\n",
    "        property_type = 'House'\n",
    "        AND -- only include sales price in reasonable range\n",
    "        price BETWEEN 100000\n",
    "        AND 3000000\n",
    "    GROUP BY\n",
    "        year\n",
    ")\n",
    "SELECT\n",
    "    year,\n",
    "    PRINTF(\"$%,d\", price) AS avgPrice,\n",
    "    PRINTF(\n",
    "        \"%.1f%\",\n",
    "        100 *(\n",
    "            price / lag(price, 1) over(\n",
    "                ORDER BY\n",
    "                    year\n",
    "            ) -1\n",
    "        )\n",
    "    ) AS growth\n",
    "FROM\n",
    "    houseAvg\n",
    "WHERE\n",
    "    year < 2022\n",
    "ORDER BY\n",
    "    year DESC\n",
    "LIMIT\n",
    "    5"
   ]
  },
  {
   "cell_type": "markdown",
   "metadata": {},
   "source": [
    "#### Which suburbs have the highest growth rate in house prices in 2021?"
   ]
  },
  {
   "cell_type": "code",
   "execution_count": 21,
   "metadata": {
    "vscode": {
     "languageId": "sql"
    }
   },
   "outputs": [
    {
     "name": "stdout",
     "output_type": "stream",
     "text": [
      " * sqlite:///D:\\_CORE\\static\\dataset\\Australia\\pricefinder\\pricefinder_db.sqlite\n",
      "Done.\n"
     ]
    },
    {
     "data": {
      "text/html": [
       "<table>\n",
       "    <tr>\n",
       "        <th>suburb</th>\n",
       "        <th>year</th>\n",
       "        <th>growth</th>\n",
       "    </tr>\n",
       "    <tr>\n",
       "        <td>MAIANBAR</td>\n",
       "        <td>2021</td>\n",
       "        <td>98.9%</td>\n",
       "    </tr>\n",
       "    <tr>\n",
       "        <td>MILSONS PASSAGE</td>\n",
       "        <td>2021</td>\n",
       "        <td>90.4%</td>\n",
       "    </tr>\n",
       "    <tr>\n",
       "        <td>COLLAROY</td>\n",
       "        <td>2021</td>\n",
       "        <td>9.6%</td>\n",
       "    </tr>\n",
       "    <tr>\n",
       "        <td>RANKIN PARK</td>\n",
       "        <td>2021</td>\n",
       "        <td>9.6%</td>\n",
       "    </tr>\n",
       "    <tr>\n",
       "        <td>PENDLE HILL</td>\n",
       "        <td>2021</td>\n",
       "        <td>9.5%</td>\n",
       "    </tr>\n",
       "    <tr>\n",
       "        <td>HUNTERS HILL</td>\n",
       "        <td>2021</td>\n",
       "        <td>9.4%</td>\n",
       "    </tr>\n",
       "    <tr>\n",
       "        <td>THE ENTRANCE NORTH</td>\n",
       "        <td>2021</td>\n",
       "        <td>9.4%</td>\n",
       "    </tr>\n",
       "    <tr>\n",
       "        <td>WOOLLAHRA</td>\n",
       "        <td>2021</td>\n",
       "        <td>9.3%</td>\n",
       "    </tr>\n",
       "    <tr>\n",
       "        <td>SEAFORTH</td>\n",
       "        <td>2021</td>\n",
       "        <td>9.2%</td>\n",
       "    </tr>\n",
       "    <tr>\n",
       "        <td>BEACONSFIELD</td>\n",
       "        <td>2021</td>\n",
       "        <td>9.1%</td>\n",
       "    </tr>\n",
       "</table>"
      ],
      "text/plain": [
       "[('MAIANBAR', 2021, '98.9%'),\n",
       " ('MILSONS PASSAGE', 2021, '90.4%'),\n",
       " ('COLLAROY', 2021, '9.6%'),\n",
       " ('RANKIN PARK', 2021, '9.6%'),\n",
       " ('PENDLE HILL', 2021, '9.5%'),\n",
       " ('HUNTERS HILL', 2021, '9.4%'),\n",
       " ('THE ENTRANCE NORTH', 2021, '9.4%'),\n",
       " ('WOOLLAHRA', 2021, '9.3%'),\n",
       " ('SEAFORTH', 2021, '9.2%'),\n",
       " ('BEACONSFIELD', 2021, '9.1%')]"
      ]
     },
     "execution_count": 21,
     "metadata": {},
     "output_type": "execute_result"
    }
   ],
   "source": [
    "%%sql\n",
    "\n",
    "WITH houseAvg AS (\n",
    "    SELECT\n",
    "        p.locality AS suburb,\n",
    "        CAST(strftime('%Y', r.record_date) AS decimal) AS year,\n",
    "        AVG(r.price) AS price\n",
    "    FROM\n",
    "        record AS r\n",
    "        LEFT JOIN property AS p ON r.prop_id = p.address\n",
    "    WHERE\n",
    "        r.property_type = 'House'\n",
    "        AND r.price BETWEEN 100000\n",
    "        AND 3000000\n",
    "        AND -- include 2020 and 2021 prices to calculate growth in 2021\n",
    "        year BETWEEN 2020\n",
    "        AND 2021\n",
    "    GROUP BY\n",
    "        suburb,\n",
    "        year\n",
    ")\n",
    "SELECT\n",
    "    suburb,\n",
    "    year,\n",
    "    PRINTF(\n",
    "        '%.1f%',\n",
    "        -- growth rate = (this-year-price / prev-year-price) -1\n",
    "        100 *(\n",
    "            price / lag(price, 1) OVER(\n",
    "                PARTITION by suburb\n",
    "                ORDER BY\n",
    "                    year\n",
    "            ) -1\n",
    "        )\n",
    "    ) AS growth\n",
    "FROM\n",
    "    houseAvg\n",
    "ORDER BY\n",
    "    growth DESC\n",
    "LIMIT\n",
    "    10"
   ]
  },
  {
   "cell_type": "markdown",
   "metadata": {},
   "source": [
    "#### What is 5-year moving avearge house price for suburb Chatswood?"
   ]
  },
  {
   "cell_type": "code",
   "execution_count": 22,
   "metadata": {
    "vscode": {
     "languageId": "sql"
    }
   },
   "outputs": [
    {
     "name": "stdout",
     "output_type": "stream",
     "text": [
      " * sqlite:///D:\\_CORE\\static\\dataset\\Australia\\pricefinder\\pricefinder_db.sqlite\n",
      "Done.\n"
     ]
    },
    {
     "data": {
      "text/html": [
       "<table>\n",
       "    <tr>\n",
       "        <th>year</th>\n",
       "        <th>price</th>\n",
       "        <th>MA_price</th>\n",
       "    </tr>\n",
       "    <tr>\n",
       "        <td>2021</td>\n",
       "        <td>$1,402,727</td>\n",
       "        <td>$1,460,592</td>\n",
       "    </tr>\n",
       "    <tr>\n",
       "        <td>2020</td>\n",
       "        <td>$1,507,625</td>\n",
       "        <td>$1,457,660</td>\n",
       "    </tr>\n",
       "    <tr>\n",
       "        <td>2019</td>\n",
       "        <td>$1,401,437</td>\n",
       "        <td>$1,428,960</td>\n",
       "    </tr>\n",
       "    <tr>\n",
       "        <td>2018</td>\n",
       "        <td>$1,526,583</td>\n",
       "        <td>$1,366,697</td>\n",
       "    </tr>\n",
       "    <tr>\n",
       "        <td>2017</td>\n",
       "        <td>$1,464,589</td>\n",
       "        <td>$1,265,765</td>\n",
       "    </tr>\n",
       "    <tr>\n",
       "        <td>2016</td>\n",
       "        <td>$1,388,064</td>\n",
       "        <td>$1,130,770</td>\n",
       "    </tr>\n",
       "    <tr>\n",
       "        <td>2015</td>\n",
       "        <td>$1,364,129</td>\n",
       "        <td>$1,015,995</td>\n",
       "    </tr>\n",
       "    <tr>\n",
       "        <td>2014</td>\n",
       "        <td>$1,090,118</td>\n",
       "        <td>$883,339</td>\n",
       "    </tr>\n",
       "    <tr>\n",
       "        <td>2013</td>\n",
       "        <td>$1,021,926</td>\n",
       "        <td>$800,816</td>\n",
       "    </tr>\n",
       "    <tr>\n",
       "        <td>2012</td>\n",
       "        <td>$789,614</td>\n",
       "        <td>$716,033</td>\n",
       "    </tr>\n",
       "</table>"
      ],
      "text/plain": [
       "[(2021, '$1,402,727', '$1,460,592'),\n",
       " (2020, '$1,507,625', '$1,457,660'),\n",
       " (2019, '$1,401,437', '$1,428,960'),\n",
       " (2018, '$1,526,583', '$1,366,697'),\n",
       " (2017, '$1,464,589', '$1,265,765'),\n",
       " (2016, '$1,388,064', '$1,130,770'),\n",
       " (2015, '$1,364,129', '$1,015,995'),\n",
       " (2014, '$1,090,118', '$883,339'),\n",
       " (2013, '$1,021,926', '$800,816'),\n",
       " (2012, '$789,614', '$716,033')]"
      ]
     },
     "execution_count": 22,
     "metadata": {},
     "output_type": "execute_result"
    }
   ],
   "source": [
    "%%sql\n",
    "\n",
    "WITH houseAvg AS(\n",
    "    SELECT\n",
    "        CAST(STRFTIME('%Y', r.record_date) AS integer) AS year,\n",
    "        AVG(r.price) AS price\n",
    "    FROM\n",
    "        record AS r\n",
    "        LEFT JOIN property AS p ON r.prop_id = p.address\n",
    "    WHERE\n",
    "        p.locality = 'CHATSWOOD'\n",
    "        AND r.price BETWEEN 100000\n",
    "        AND 3000000\n",
    "    GROUP BY\n",
    "        year\n",
    ")\n",
    "\n",
    "SELECT\n",
    "    year,\n",
    "    PRINTF('$%,d', price) AS price,\n",
    "    PRINTF(\n",
    "        '$%,d',\n",
    "        -- average over windows of 5 years\n",
    "        AVG(price) OVER (\n",
    "            ORDER BY\n",
    "                year ROWS BETWEEN 4 PRECEDING\n",
    "                AND CURRENT ROW\n",
    "        )\n",
    "    ) AS MA_price\n",
    "FROM\n",
    "    houseAvg\n",
    "ORDER BY\n",
    "    year DESC\n",
    "LIMIT\n",
    "    10"
   ]
  },
  {
   "cell_type": "markdown",
   "metadata": {},
   "source": [
    "#### What are the median prices for Maianbar in each year?"
   ]
  },
  {
   "cell_type": "code",
   "execution_count": 23,
   "metadata": {
    "vscode": {
     "languageId": "sql"
    }
   },
   "outputs": [
    {
     "name": "stdout",
     "output_type": "stream",
     "text": [
      " * sqlite:///D:\\_CORE\\static\\dataset\\Australia\\pricefinder\\pricefinder_db.sqlite\n",
      "Done.\n"
     ]
    },
    {
     "data": {
      "text/html": [
       "<table>\n",
       "    <tr>\n",
       "        <th>year</th>\n",
       "        <th>median</th>\n",
       "    </tr>\n",
       "    <tr>\n",
       "        <td>2007</td>\n",
       "        <td>310000.0</td>\n",
       "    </tr>\n",
       "    <tr>\n",
       "        <td>2012</td>\n",
       "        <td>552500.0</td>\n",
       "    </tr>\n",
       "    <tr>\n",
       "        <td>2013</td>\n",
       "        <td>890000.0</td>\n",
       "    </tr>\n",
       "    <tr>\n",
       "        <td>2014</td>\n",
       "        <td>1005000.0</td>\n",
       "    </tr>\n",
       "    <tr>\n",
       "        <td>2016</td>\n",
       "        <td>845000.0</td>\n",
       "    </tr>\n",
       "    <tr>\n",
       "        <td>2018</td>\n",
       "        <td>670000.0</td>\n",
       "    </tr>\n",
       "    <tr>\n",
       "        <td>2020</td>\n",
       "        <td>789750.0</td>\n",
       "    </tr>\n",
       "    <tr>\n",
       "        <td>2021</td>\n",
       "        <td>1435000.0</td>\n",
       "    </tr>\n",
       "</table>"
      ],
      "text/plain": [
       "[(2007, 310000.0),\n",
       " (2012, 552500.0),\n",
       " (2013, 890000.0),\n",
       " (2014, 1005000.0),\n",
       " (2016, 845000.0),\n",
       " (2018, 670000.0),\n",
       " (2020, 789750.0),\n",
       " (2021, 1435000.0)]"
      ]
     },
     "execution_count": 23,
     "metadata": {},
     "output_type": "execute_result"
    }
   ],
   "source": [
    "%%sql\n",
    "\n",
    "WITH prices AS(\n",
    "    SELECT\n",
    "        CAST(STRFTIME('%Y', r.record_date) AS integer) AS year,\n",
    "        price\n",
    "    FROM\n",
    "        record AS r\n",
    "        LEFT JOIN property AS p ON r.prop_id = p.address\n",
    "    WHERE\n",
    "        p.locality = 'MAIANBAR'\n",
    "        AND r.price BETWEEN 100000\n",
    "        AND 3000000\n",
    "    ORDER BY\n",
    "        year\n",
    ")\n",
    "\n",
    "SELECT\n",
    "    DISTINCT year,\n",
    "    -- median: if number of record is evevn, pick middle 2 values and take average\n",
    "    -- else pick middle value directly\n",
    "    AVG(\n",
    "        CASE\n",
    "            WHEN n_record % 2 = 0 THEN CASE\n",
    "                -- even number of records, extract middle 2 values\n",
    "                WHEN row_num IN (n_record / 2, n_record / 2 + 1) THEN price\n",
    "            END\n",
    "            ELSE CASE\n",
    "                -- odd number, extract middle value\n",
    "                WHEN row_num = n_record / 2 + 1 THEN price\n",
    "            END\n",
    "        END\n",
    "    ) OVER(PARTITION BY year) AS median\n",
    "FROM\n",
    "    (\n",
    "        SELECT\n",
    "            *,\n",
    "            -- row number as ordering rank of price in each year\n",
    "            ROW_NUMBER() OVER(\n",
    "                PARTITION BY year\n",
    "                ORDER BY\n",
    "                    price\n",
    "            ) AS row_num,\n",
    "            -- number of record in each year\n",
    "            COUNT(*) OVER(PARTITION BY year) AS n_record\n",
    "        FROM\n",
    "            prices\n",
    "    )"
   ]
  },
  {
   "cell_type": "markdown",
   "metadata": {},
   "source": [
    "#### List the years from 2010 to 2021 when there was no sale record of house in Maianbar."
   ]
  },
  {
   "cell_type": "code",
   "execution_count": 24,
   "metadata": {
    "vscode": {
     "languageId": "sql"
    }
   },
   "outputs": [
    {
     "name": "stdout",
     "output_type": "stream",
     "text": [
      " * sqlite:///D:\\_CORE\\static\\dataset\\Australia\\pricefinder\\pricefinder_db.sqlite\n",
      "Done.\n"
     ]
    },
    {
     "data": {
      "text/html": [
       "<table>\n",
       "    <tr>\n",
       "        <th>year</th>\n",
       "    </tr>\n",
       "    <tr>\n",
       "        <td>2010</td>\n",
       "    </tr>\n",
       "    <tr>\n",
       "        <td>2011</td>\n",
       "    </tr>\n",
       "    <tr>\n",
       "        <td>2015</td>\n",
       "    </tr>\n",
       "    <tr>\n",
       "        <td>2017</td>\n",
       "    </tr>\n",
       "    <tr>\n",
       "        <td>2019</td>\n",
       "    </tr>\n",
       "</table>"
      ],
      "text/plain": [
       "[(2010,), (2011,), (2015,), (2017,), (2019,)]"
      ]
     },
     "execution_count": 24,
     "metadata": {},
     "output_type": "execute_result"
    }
   ],
   "source": [
    "%%sql\n",
    "\n",
    "WITH houseAvg AS(\n",
    "    SELECT\n",
    "        CAST(STRFTIME('%Y', r.record_date) AS integer) AS year,\n",
    "        AVG(r.price) AS price\n",
    "    FROM\n",
    "        record AS r\n",
    "        LEFT JOIN property AS p ON r.prop_id = p.address\n",
    "    WHERE\n",
    "        p.locality = 'MAIANBAR'\n",
    "        AND year BETWEEN 2010\n",
    "        AND 2021\n",
    "    GROUP BY\n",
    "        year\n",
    "),\n",
    "\n",
    "-- generate year series for joining\n",
    "year_series(value) AS (\n",
    "    SELECT\n",
    "        2010\n",
    "    UNION\n",
    "    ALL\n",
    "    SELECT\n",
    "        value + 1\n",
    "    FROM\n",
    "        year_series\n",
    "    WHERE\n",
    "        value + 1 <= 2021\n",
    ")\n",
    "\n",
    "-- join with year series to find years with missing values\n",
    "SELECT\n",
    "    y.value AS year\n",
    "FROM\n",
    "    year_series AS y\n",
    "    LEFT JOIN houseAvg AS h ON h.year = y.value\n",
    "WHERE\n",
    "    h.price IS NULL"
   ]
  }
 ],
 "metadata": {
  "interpreter": {
   "hash": "89b3de362c18f0b96e3dbc72bc0c616f4f51b95182f2ddca825cadc01fba3b0d"
  },
  "kernelspec": {
   "display_name": "Python 3.8.10 ('venv': venv)",
   "language": "python",
   "name": "python3"
  },
  "language_info": {
   "codemirror_mode": {
    "name": "ipython",
    "version": 3
   },
   "file_extension": ".py",
   "mimetype": "text/x-python",
   "name": "python",
   "nbconvert_exporter": "python",
   "pygments_lexer": "ipython3",
   "version": "3.8.10"
  },
  "orig_nbformat": 4
 },
 "nbformat": 4,
 "nbformat_minor": 2
}
