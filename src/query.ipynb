{
 "cells": [
  {
   "cell_type": "markdown",
   "metadata": {},
   "source": [
    "# Load SQLite DB"
   ]
  },
  {
   "cell_type": "code",
   "execution_count": 3,
   "metadata": {},
   "outputs": [],
   "source": [
    "import pandas as pd\n",
    "from paths import PF_DB_PATH\n",
    "db_path = f'sqlite:///{PF_DB_PATH}'"
   ]
  },
  {
   "cell_type": "code",
   "execution_count": 4,
   "metadata": {},
   "outputs": [],
   "source": [
    "%%capture\n",
    "%load_ext sql\n",
    "%env DATABASE_URL= $db_path"
   ]
  },
  {
   "cell_type": "markdown",
   "metadata": {},
   "source": []
  },
  {
   "cell_type": "markdown",
   "metadata": {},
   "source": [
    "# Querys"
   ]
  },
  {
   "cell_type": "markdown",
   "metadata": {},
   "source": [
    "#### How is property type distributed in the dataset?"
   ]
  },
  {
   "cell_type": "code",
   "execution_count": 5,
   "metadata": {
    "vscode": {
     "languageId": "sql"
    }
   },
   "outputs": [
    {
     "name": "stdout",
     "output_type": "stream",
     "text": [
      "Done.\n"
     ]
    },
    {
     "data": {
      "text/html": [
       "<table>\n",
       "    <tr>\n",
       "        <th>propertyType</th>\n",
       "        <th>total</th>\n",
       "        <th>proportion</th>\n",
       "    </tr>\n",
       "    <tr>\n",
       "        <td>House</td>\n",
       "        <td>349058</td>\n",
       "        <td>47.7%</td>\n",
       "    </tr>\n",
       "    <tr>\n",
       "        <td>Unit</td>\n",
       "        <td>340298</td>\n",
       "        <td>46.5%</td>\n",
       "    </tr>\n",
       "    <tr>\n",
       "        <td>Other</td>\n",
       "        <td>22206</td>\n",
       "        <td>3.0%</td>\n",
       "    </tr>\n",
       "    <tr>\n",
       "        <td>Vacant Land</td>\n",
       "        <td>12576</td>\n",
       "        <td>1.7%</td>\n",
       "    </tr>\n",
       "    <tr>\n",
       "        <td>Commercial</td>\n",
       "        <td>6310</td>\n",
       "        <td>0.9%</td>\n",
       "    </tr>\n",
       "    <tr>\n",
       "        <td>Industrial</td>\n",
       "        <td>1104</td>\n",
       "        <td>0.2%</td>\n",
       "    </tr>\n",
       "</table>"
      ],
      "text/plain": [
       "[('House', 349058, '47.7%'),\n",
       " ('Unit', 340298, '46.5%'),\n",
       " ('Other', 22206, '3.0%'),\n",
       " ('Vacant Land', 12576, '1.7%'),\n",
       " ('Commercial', 6310, '0.9%'),\n",
       " ('Industrial', 1104, '0.2%')]"
      ]
     },
     "execution_count": 5,
     "metadata": {},
     "output_type": "execute_result"
    }
   ],
   "source": [
    "%%sql \n",
    "SELECT\n",
    "    property_type AS propertyType,\n",
    "    COUNT(property_type) AS total,\n",
    "    -- format function of SQLite\n",
    "    PRINTF(\"%.1f%\",\n",
    "        100*CAST(COUNT(property_type) AS real) / (\n",
    "            SELECT\n",
    "                COUNT(*)\n",
    "            FROM\n",
    "                record\n",
    "        )\n",
    "    ) AS proportion\n",
    "FROM\n",
    "    record\n",
    "GROUP BY\n",
    "    property_type\n",
    "ORDER BY\n",
    "    total DESC"
   ]
  },
  {
   "cell_type": "markdown",
   "metadata": {},
   "source": [
    "#### How much have average house prices changes in the last 5 years?"
   ]
  },
  {
   "cell_type": "code",
   "execution_count": 6,
   "metadata": {
    "vscode": {
     "languageId": "sql"
    }
   },
   "outputs": [
    {
     "name": "stdout",
     "output_type": "stream",
     "text": [
      " * sqlite:///D:\\_CORE\\static\\dataset\\Australia\\pricefinder\\pricefinder_db.sqlite\n",
      "Done.\n"
     ]
    },
    {
     "data": {
      "text/html": [
       "<table>\n",
       "    <tr>\n",
       "        <th>year</th>\n",
       "        <th>avgPrice</th>\n",
       "        <th>growth</th>\n",
       "    </tr>\n",
       "    <tr>\n",
       "        <td>2021</td>\n",
       "        <td>$1,431,570</td>\n",
       "        <td>20.0%</td>\n",
       "    </tr>\n",
       "    <tr>\n",
       "        <td>2020</td>\n",
       "        <td>$1,193,125</td>\n",
       "        <td>5.5%</td>\n",
       "    </tr>\n",
       "    <tr>\n",
       "        <td>2019</td>\n",
       "        <td>$1,131,452</td>\n",
       "        <td>-2.1%</td>\n",
       "    </tr>\n",
       "    <tr>\n",
       "        <td>2018</td>\n",
       "        <td>$1,155,428</td>\n",
       "        <td>-3.6%</td>\n",
       "    </tr>\n",
       "    <tr>\n",
       "        <td>2017</td>\n",
       "        <td>$1,199,063</td>\n",
       "        <td>8.1%</td>\n",
       "    </tr>\n",
       "</table>"
      ],
      "text/plain": [
       "[(2021, '$1,431,570', '20.0%'),\n",
       " (2020, '$1,193,125', '5.5%'),\n",
       " (2019, '$1,131,452', '-2.1%'),\n",
       " (2018, '$1,155,428', '-3.6%'),\n",
       " (2017, '$1,199,063', '8.1%')]"
      ]
     },
     "execution_count": 6,
     "metadata": {},
     "output_type": "execute_result"
    }
   ],
   "source": [
    "%%sql\n",
    "-- window for average house prices\n",
    "WITH houseAvg AS (\n",
    "    SELECT\n",
    "        CAST(strftime('%Y', record_date) AS decimal) AS year,\n",
    "        AVG(price) AS price\n",
    "    FROM\n",
    "        record\n",
    "    WHERE\n",
    "        property_type = 'House'\n",
    "        AND\n",
    "        -- only include sales price in reasonable range\n",
    "        price between 100000 and 3000000\n",
    "    GROUP BY\n",
    "        year\n",
    ")\n",
    "SELECT\n",
    "    year,\n",
    "    PRINTF(\"$%,d\", price) AS avgPrice,\n",
    "    PRINTF(\"%.1f%\",\n",
    "        100*(price / lag(price, 1) over(ORDER BY year)-1)\n",
    "    ) AS growth\n",
    "FROM\n",
    "    houseAvg\n",
    "WHERE\n",
    "    year < 2022\n",
    "ORDER BY\n",
    "    year DESC\n",
    "LIMIT\n",
    "    5"
   ]
  },
  {
   "cell_type": "markdown",
   "metadata": {},
   "source": [
    "#### Which suburbs have the highest growth rate in house prices in 2021?"
   ]
  },
  {
   "cell_type": "code",
   "execution_count": 7,
   "metadata": {
    "vscode": {
     "languageId": "sql"
    }
   },
   "outputs": [
    {
     "name": "stdout",
     "output_type": "stream",
     "text": [
      " * sqlite:///D:\\_CORE\\static\\dataset\\Australia\\pricefinder\\pricefinder_db.sqlite\n",
      "Done.\n"
     ]
    },
    {
     "data": {
      "text/html": [
       "<table>\n",
       "    <tr>\n",
       "        <th>suburb</th>\n",
       "        <th>year</th>\n",
       "        <th>growth</th>\n",
       "    </tr>\n",
       "    <tr>\n",
       "        <td>MAIANBAR</td>\n",
       "        <td>2021</td>\n",
       "        <td>98.9%</td>\n",
       "    </tr>\n",
       "    <tr>\n",
       "        <td>MILSONS PASSAGE</td>\n",
       "        <td>2021</td>\n",
       "        <td>90.4%</td>\n",
       "    </tr>\n",
       "    <tr>\n",
       "        <td>COLLAROY</td>\n",
       "        <td>2021</td>\n",
       "        <td>9.6%</td>\n",
       "    </tr>\n",
       "    <tr>\n",
       "        <td>RANKIN PARK</td>\n",
       "        <td>2021</td>\n",
       "        <td>9.6%</td>\n",
       "    </tr>\n",
       "    <tr>\n",
       "        <td>PENDLE HILL</td>\n",
       "        <td>2021</td>\n",
       "        <td>9.5%</td>\n",
       "    </tr>\n",
       "    <tr>\n",
       "        <td>HUNTERS HILL</td>\n",
       "        <td>2021</td>\n",
       "        <td>9.4%</td>\n",
       "    </tr>\n",
       "    <tr>\n",
       "        <td>THE ENTRANCE NORTH</td>\n",
       "        <td>2021</td>\n",
       "        <td>9.4%</td>\n",
       "    </tr>\n",
       "    <tr>\n",
       "        <td>WOOLLAHRA</td>\n",
       "        <td>2021</td>\n",
       "        <td>9.3%</td>\n",
       "    </tr>\n",
       "    <tr>\n",
       "        <td>SEAFORTH</td>\n",
       "        <td>2021</td>\n",
       "        <td>9.2%</td>\n",
       "    </tr>\n",
       "    <tr>\n",
       "        <td>BEACONSFIELD</td>\n",
       "        <td>2021</td>\n",
       "        <td>9.1%</td>\n",
       "    </tr>\n",
       "</table>"
      ],
      "text/plain": [
       "[('MAIANBAR', 2021, '98.9%'),\n",
       " ('MILSONS PASSAGE', 2021, '90.4%'),\n",
       " ('COLLAROY', 2021, '9.6%'),\n",
       " ('RANKIN PARK', 2021, '9.6%'),\n",
       " ('PENDLE HILL', 2021, '9.5%'),\n",
       " ('HUNTERS HILL', 2021, '9.4%'),\n",
       " ('THE ENTRANCE NORTH', 2021, '9.4%'),\n",
       " ('WOOLLAHRA', 2021, '9.3%'),\n",
       " ('SEAFORTH', 2021, '9.2%'),\n",
       " ('BEACONSFIELD', 2021, '9.1%')]"
      ]
     },
     "execution_count": 7,
     "metadata": {},
     "output_type": "execute_result"
    }
   ],
   "source": [
    "%%sql\n",
    "WITH houseAvg AS (\n",
    "    SELECT\n",
    "        p.locality AS suburb,\n",
    "        CAST(strftime('%Y', r.record_date) AS decimal) AS year,\n",
    "        AVG(r.price) AS price\n",
    "    FROM\n",
    "        record AS r\n",
    "        LEFT JOIN\n",
    "            property AS p\n",
    "        ON\n",
    "            r.prop_id = p.address\n",
    "    WHERE\n",
    "        r.property_type = 'House'\n",
    "        AND\n",
    "        r.price BETWEEN 100000 AND 3000000\n",
    "        AND\n",
    "        -- include 2020 and 2021 prices to calculate growth in 2021\n",
    "        year BETWEEN 2020 AND 2021\n",
    "    GROUP BY\n",
    "        suburb,\n",
    "        year\n",
    ")\n",
    "SELECT\n",
    "    suburb,\n",
    "    year,\n",
    "    PRINTF(\n",
    "        '%.1f%',\n",
    "        -- growth rate = (this-year-price / prev-year-price) -1\n",
    "        100 *(\n",
    "            price / lag(price, 1) OVER(\n",
    "                PARTITION by suburb\n",
    "                ORDER BY\n",
    "                    year\n",
    "            ) -1\n",
    "        )\n",
    "    ) AS growth\n",
    "FROM\n",
    "    houseAvg\n",
    "ORDER BY\n",
    "    growth DESC\n",
    "LIMIT\n",
    "    10"
   ]
  },
  {
   "cell_type": "markdown",
   "metadata": {},
   "source": [
    "#### What is 5-year moving avearge house price for suburb Chatswood?"
   ]
  },
  {
   "cell_type": "code",
   "execution_count": 8,
   "metadata": {
    "vscode": {
     "languageId": "sql"
    }
   },
   "outputs": [
    {
     "name": "stdout",
     "output_type": "stream",
     "text": [
      " * sqlite:///D:\\_CORE\\static\\dataset\\Australia\\pricefinder\\pricefinder_db.sqlite\n",
      "Done.\n"
     ]
    },
    {
     "data": {
      "text/html": [
       "<table>\n",
       "    <tr>\n",
       "        <th>year</th>\n",
       "        <th>price</th>\n",
       "        <th>MA_price</th>\n",
       "    </tr>\n",
       "    <tr>\n",
       "        <td>2021</td>\n",
       "        <td>$1,431,015</td>\n",
       "        <td>$1,358,968</td>\n",
       "    </tr>\n",
       "    <tr>\n",
       "        <td>2020</td>\n",
       "        <td>$1,286,734</td>\n",
       "        <td>$1,329,015</td>\n",
       "    </tr>\n",
       "    <tr>\n",
       "        <td>2019</td>\n",
       "        <td>$1,440,307</td>\n",
       "        <td>$1,404,810</td>\n",
       "    </tr>\n",
       "    <tr>\n",
       "        <td>2018</td>\n",
       "        <td>$1,220,792</td>\n",
       "        <td>$1,342,923</td>\n",
       "    </tr>\n",
       "    <tr>\n",
       "        <td>2017</td>\n",
       "        <td>$1,415,993</td>\n",
       "        <td>$1,311,506</td>\n",
       "    </tr>\n",
       "    <tr>\n",
       "        <td>2016</td>\n",
       "        <td>$1,281,250</td>\n",
       "        <td>$1,186,230</td>\n",
       "    </tr>\n",
       "    <tr>\n",
       "        <td>2015</td>\n",
       "        <td>$1,665,709</td>\n",
       "        <td>$1,103,184</td>\n",
       "    </tr>\n",
       "    <tr>\n",
       "        <td>2014</td>\n",
       "        <td>$1,130,871</td>\n",
       "        <td>$908,982</td>\n",
       "    </tr>\n",
       "    <tr>\n",
       "        <td>2013</td>\n",
       "        <td>$1,063,707</td>\n",
       "        <td>$843,971</td>\n",
       "    </tr>\n",
       "    <tr>\n",
       "        <td>2012</td>\n",
       "        <td>$789,614</td>\n",
       "        <td>$749,801</td>\n",
       "    </tr>\n",
       "</table>"
      ],
      "text/plain": [
       "[(2021, '$1,431,015', '$1,358,968'),\n",
       " (2020, '$1,286,734', '$1,329,015'),\n",
       " (2019, '$1,440,307', '$1,404,810'),\n",
       " (2018, '$1,220,792', '$1,342,923'),\n",
       " (2017, '$1,415,993', '$1,311,506'),\n",
       " (2016, '$1,281,250', '$1,186,230'),\n",
       " (2015, '$1,665,709', '$1,103,184'),\n",
       " (2014, '$1,130,871', '$908,982'),\n",
       " (2013, '$1,063,707', '$843,971'),\n",
       " (2012, '$789,614', '$749,801')]"
      ]
     },
     "execution_count": 8,
     "metadata": {},
     "output_type": "execute_result"
    }
   ],
   "source": [
    "%%sql\n",
    "\n",
    "WITH \n",
    "    houseAvg AS(\n",
    "        SELECT\n",
    "            CAST(STRFTIME('%Y', r.record_date) AS integer) AS year,\n",
    "            AVG(r.price) AS price\n",
    "        FROM\n",
    "            record AS r\n",
    "            LEFT JOIN \n",
    "                property AS p \n",
    "            ON \n",
    "                r.prop_id = p.address\n",
    "        WHERE\n",
    "            p.locality = 'CHATSWOOD'\n",
    "        GROUP BY\n",
    "            year\n",
    "    )\n",
    "\n",
    "SELECT\n",
    "    year,\n",
    "    PRINTF(\n",
    "        '$%,d',\n",
    "        price\n",
    "    ) as price, \n",
    "    PRINTF(\n",
    "        '$%,d',\n",
    "        AVG(price) OVER (\n",
    "        ORDER BY\n",
    "            year ROWS BETWEEN \n",
    "                    4 PRECEDING \n",
    "                    AND\n",
    "                    CURRENT ROW\n",
    "         )\n",
    "    ) as MA_price\n",
    "FROM\n",
    "   houseAvg\n",
    "ORDER BY\n",
    "    year DESC\n",
    "LIMIT 10"
   ]
  },
  {
   "cell_type": "markdown",
   "metadata": {},
   "source": [
    "#### What are the yearly median prices for Maianbar?"
   ]
  },
  {
   "cell_type": "code",
   "execution_count": 16,
   "metadata": {
    "vscode": {
     "languageId": "sql"
    }
   },
   "outputs": [
    {
     "name": "stdout",
     "output_type": "stream",
     "text": [
      " * sqlite:///D:\\_CORE\\static\\dataset\\Australia\\pricefinder\\pricefinder_db.sqlite\n",
      "Done.\n"
     ]
    },
    {
     "data": {
      "text/html": [
       "<table>\n",
       "    <tr>\n",
       "        <th>year</th>\n",
       "        <th>median</th>\n",
       "    </tr>\n",
       "    <tr>\n",
       "        <td>2007</td>\n",
       "        <td>310000.0</td>\n",
       "    </tr>\n",
       "    <tr>\n",
       "        <td>2012</td>\n",
       "        <td>552500.0</td>\n",
       "    </tr>\n",
       "    <tr>\n",
       "        <td>2013</td>\n",
       "        <td>890000.0</td>\n",
       "    </tr>\n",
       "    <tr>\n",
       "        <td>2014</td>\n",
       "        <td>1005000.0</td>\n",
       "    </tr>\n",
       "    <tr>\n",
       "        <td>2016</td>\n",
       "        <td>845000.0</td>\n",
       "    </tr>\n",
       "    <tr>\n",
       "        <td>2018</td>\n",
       "        <td>670000.0</td>\n",
       "    </tr>\n",
       "    <tr>\n",
       "        <td>2020</td>\n",
       "        <td>789750.0</td>\n",
       "    </tr>\n",
       "    <tr>\n",
       "        <td>2021</td>\n",
       "        <td>1435000.0</td>\n",
       "    </tr>\n",
       "</table>"
      ],
      "text/plain": [
       "[(2007, 310000.0),\n",
       " (2012, 552500.0),\n",
       " (2013, 890000.0),\n",
       " (2014, 1005000.0),\n",
       " (2016, 845000.0),\n",
       " (2018, 670000.0),\n",
       " (2020, 789750.0),\n",
       " (2021, 1435000.0)]"
      ]
     },
     "execution_count": 16,
     "metadata": {},
     "output_type": "execute_result"
    }
   ],
   "source": [
    "%%sql\n",
    "\n",
    "WITH prices AS(\n",
    "    SELECT\n",
    "        CAST(STRFTIME('%Y', r.record_date) AS integer) AS year,\n",
    "        price\n",
    "    FROM\n",
    "        record AS r\n",
    "        LEFT JOIN property AS p ON r.prop_id = p.address\n",
    "    WHERE\n",
    "        p.locality = 'MAIANBAR' \n",
    "        AND\n",
    "        r.price BETWEEN 100000 AND 3000000\n",
    "    ORDER BY\n",
    "        year\n",
    ")\n",
    "\n",
    "SELECT \n",
    "    DISTINCT year,\n",
    "    AVG(\n",
    "    CASE WHEN n_record % 2 = 0\n",
    "        THEN CASE WHEN row_num IN (n_record/2, n_record/2+1) THEN price END\n",
    "        ELSE CASE WHEN row_num = n_record/2+1 THEN price END\n",
    "    END) OVER(PARTITION BY year) as median\n",
    "FROM (\n",
    "    SELECT \n",
    "        *,\n",
    "        ROW_NUMBER() OVER(PARTITION BY year ORDER BY price) as row_num,\n",
    "        COUNT(*) OVER(PARTITION BY year) as n_record\n",
    "    FROM \n",
    "        prices\n",
    ")"
   ]
  },
  {
   "cell_type": "markdown",
   "metadata": {},
   "source": [
    "#### List the years from 2010 to 2021 when there was no sale record of house in Maianbar."
   ]
  },
  {
   "cell_type": "code",
   "execution_count": 95,
   "metadata": {
    "vscode": {
     "languageId": "sql"
    }
   },
   "outputs": [
    {
     "name": "stdout",
     "output_type": "stream",
     "text": [
      " * sqlite:///D:\\_CORE\\static\\dataset\\Australia\\pricefinder\\pricefinder_db.sqlite\n",
      "Done.\n"
     ]
    },
    {
     "data": {
      "text/html": [
       "<table>\n",
       "    <tr>\n",
       "        <th>year</th>\n",
       "    </tr>\n",
       "    <tr>\n",
       "        <td>2010</td>\n",
       "    </tr>\n",
       "    <tr>\n",
       "        <td>2011</td>\n",
       "    </tr>\n",
       "    <tr>\n",
       "        <td>2015</td>\n",
       "    </tr>\n",
       "    <tr>\n",
       "        <td>2017</td>\n",
       "    </tr>\n",
       "    <tr>\n",
       "        <td>2019</td>\n",
       "    </tr>\n",
       "</table>"
      ],
      "text/plain": [
       "[(2010,), (2011,), (2015,), (2017,), (2019,)]"
      ]
     },
     "execution_count": 95,
     "metadata": {},
     "output_type": "execute_result"
    }
   ],
   "source": [
    "%%sql\n",
    "WITH \n",
    "    houseAvg AS(\n",
    "        SELECT\n",
    "            CAST(STRFTIME('%Y', r.record_date) AS integer) AS year,\n",
    "            AVG(r.price) AS price\n",
    "        FROM\n",
    "            record AS r\n",
    "            LEFT JOIN \n",
    "                property AS p \n",
    "            ON \n",
    "                r.prop_id = p.address\n",
    "        WHERE\n",
    "            p.locality = 'MAIANBAR'\n",
    "            AND\n",
    "            year BETWEEN 2010 AND 2021\n",
    "        GROUP BY\n",
    "            year\n",
    "    ),\n",
    "    \n",
    "    year_series(value) AS (\n",
    "        SELECT 2010\n",
    "        UNION ALL\n",
    "        SELECT value+1 FROM year_series\n",
    "        WHERE value+1<=2021\n",
    ")\n",
    "\n",
    "SELECT \n",
    "    y.value as year\n",
    "FROM\n",
    "    year_series as y\n",
    "    LEFT JOIN\n",
    "        houseAvg AS h\n",
    "        ON\n",
    "        h.year = y.value\n",
    "WHERE\n",
    "    h.price IS NULL\n",
    "    "
   ]
  },
  {
   "cell_type": "code",
   "execution_count": null,
   "metadata": {
    "vscode": {
     "languageId": "sql"
    }
   },
   "outputs": [],
   "source": []
  }
 ],
 "metadata": {
  "interpreter": {
   "hash": "89b3de362c18f0b96e3dbc72bc0c616f4f51b95182f2ddca825cadc01fba3b0d"
  },
  "kernelspec": {
   "display_name": "Python 3.8.10 ('venv': venv)",
   "language": "python",
   "name": "python3"
  },
  "language_info": {
   "codemirror_mode": {
    "name": "ipython",
    "version": 3
   },
   "file_extension": ".py",
   "mimetype": "text/x-python",
   "name": "python",
   "nbconvert_exporter": "python",
   "pygments_lexer": "ipython3",
   "version": "3.8.10"
  },
  "orig_nbformat": 4
 },
 "nbformat": 4,
 "nbformat_minor": 2
}
